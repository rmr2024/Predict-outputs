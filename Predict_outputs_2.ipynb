{
  "nbformat": 4,
  "nbformat_minor": 0,
  "metadata": {
    "colab": {
      "provenance": []
    },
    "kernelspec": {
      "name": "python3",
      "display_name": "Python 3"
    },
    "language_info": {
      "name": "python"
    }
  },
  "cells": [
    {
      "cell_type": "code",
      "execution_count": 1,
      "metadata": {
        "colab": {
          "base_uri": "https://localhost:8080/"
        },
        "id": "NkR8HIjz3dWJ",
        "outputId": "5dd54c51-2961-4efa-c81a-8da197ba4a37"
      },
      "outputs": [
        {
          "output_type": "stream",
          "name": "stdout",
          "text": [
            "2\n",
            "(1, 2)\n",
            "(5, (7, 5, (1, 2)), 5, 4, 5, (7, 5, (1, 2)), 5, 4, 5, (7, 5, (1, 2)), 5, 4)\n",
            "4\n",
            "(5, (7, 5, (1, 2)), 5, 4, 7, 8, (4, 5))\n"
          ]
        }
      ],
      "source": [
        "a = (5,(7,5,(1,2)),5,4)\n",
        "print(a.count(5))\n",
        "print(a[1][2])\n",
        "print(a * 3)\n",
        "print(len(a))\n",
        "b = (7,8,(4,5))\n",
        "print(a + b)"
      ]
    },
    {
      "cell_type": "code",
      "source": [
        "x = [3, 6, 9, 12, 15]\n",
        "y = x[::-1]\n",
        "print(y[1] + x[-3])"
      ],
      "metadata": {
        "colab": {
          "base_uri": "https://localhost:8080/"
        },
        "id": "6J4VzAy83hXv",
        "outputId": "2cdfeb4b-060e-4b31-9f18-f0454a7974c9"
      },
      "execution_count": 2,
      "outputs": [
        {
          "output_type": "stream",
          "name": "stdout",
          "text": [
            "21\n"
          ]
        }
      ]
    },
    {
      "cell_type": "code",
      "source": [
        "word = \"Whatever\"\n",
        "print(word[:3] + word[-1] + word[4:2:-1])"
      ],
      "metadata": {
        "colab": {
          "base_uri": "https://localhost:8080/"
        },
        "id": "UFt6BorP3kI2",
        "outputId": "0b1e7191-970a-4342-c85b-d7e8d1e02166"
      },
      "execution_count": 3,
      "outputs": [
        {
          "output_type": "stream",
          "name": "stdout",
          "text": [
            "Wharet\n"
          ]
        }
      ]
    },
    {
      "cell_type": "code",
      "source": [
        "nums = {3, 6, 9, 12}\n",
        "nums.add(15)\n",
        "nums.remove(6)\n",
        "nums.update([18, 21])\n",
        "nums.discard(99)\n",
        "print(sum(nums))"
      ],
      "metadata": {
        "colab": {
          "base_uri": "https://localhost:8080/"
        },
        "id": "M3YqLiZP3mFm",
        "outputId": "25f85f82-45d7-433f-cca1-2ffa747012eb"
      },
      "execution_count": 4,
      "outputs": [
        {
          "output_type": "stream",
          "name": "stdout",
          "text": [
            "78\n"
          ]
        }
      ]
    },
    {
      "cell_type": "code",
      "source": [
        "info = {\"name\": \"Sara\", \"age\": 18, \"state\": \"Kerala\"}\n",
        "info[\"age\"] += 4\n",
        "info[\"country\"] = \"India\"\n",
        "print(info.keys())\n",
        "print(info.get(\"state\", \"Unknown\"))"
      ],
      "metadata": {
        "colab": {
          "base_uri": "https://localhost:8080/"
        },
        "id": "33ZHQ7Ok3nb1",
        "outputId": "4cc92630-713c-401d-d172-7f510134fc6f"
      },
      "execution_count": 5,
      "outputs": [
        {
          "output_type": "stream",
          "name": "stdout",
          "text": [
            "dict_keys(['name', 'age', 'state', 'country'])\n",
            "Kerala\n"
          ]
        }
      ]
    },
    {
      "cell_type": "code",
      "source": [
        "num_list = [5, 10, 15, 20, 25]\n",
        "res = list(map(lambda x: x % 3, num_list))\n",
        "print(res)"
      ],
      "metadata": {
        "colab": {
          "base_uri": "https://localhost:8080/"
        },
        "id": "uww1GgHO3pVG",
        "outputId": "be1b7b44-0559-40b4-caaf-d4c09c94c155"
      },
      "execution_count": 6,
      "outputs": [
        {
          "output_type": "stream",
          "name": "stdout",
          "text": [
            "[2, 1, 0, 2, 1]\n"
          ]
        }
      ]
    },
    {
      "cell_type": "code",
      "source": [
        "ages = [15, 22, 18, 30, 12, 40, 90]\n",
        "adults = list(filter(lambda x: x >= 18, ages))\n",
        "print(len(adults))"
      ],
      "metadata": {
        "colab": {
          "base_uri": "https://localhost:8080/"
        },
        "id": "cwLyQS_x3qvW",
        "outputId": "5c37c93d-dabb-44d2-802b-00e95b2899cf"
      },
      "execution_count": 7,
      "outputs": [
        {
          "output_type": "stream",
          "name": "stdout",
          "text": [
            "5\n"
          ]
        }
      ]
    },
    {
      "cell_type": "code",
      "source": [
        "from functools import reduce\n",
        "nums = [1, 2, 3, 4, 5]\n",
        "result = reduce(lambda x, y: x * y, nums)\n",
        "print(result)"
      ],
      "metadata": {
        "colab": {
          "base_uri": "https://localhost:8080/"
        },
        "id": "a1F2NwlQ3sXd",
        "outputId": "c9e4eaf1-698b-4ddb-a9a9-352f226ad9b0"
      },
      "execution_count": 8,
      "outputs": [
        {
          "output_type": "stream",
          "name": "stdout",
          "text": [
            "120\n"
          ]
        }
      ]
    },
    {
      "cell_type": "code",
      "source": [
        "alpha = [\"a\", \"b\", \"c\", \"d\"]\n",
        "print(alpha.pop(2) + alpha[-1])\n",
        "print(alpha)"
      ],
      "metadata": {
        "colab": {
          "base_uri": "https://localhost:8080/"
        },
        "id": "NYJh77wv3uKu",
        "outputId": "8fe6a8b6-d403-4e2e-a9e2-988e33c23777"
      },
      "execution_count": 9,
      "outputs": [
        {
          "output_type": "stream",
          "name": "stdout",
          "text": [
            "cd\n",
            "['a', 'b', 'd']\n"
          ]
        }
      ]
    },
    {
      "cell_type": "code",
      "source": [
        "x = 10\n",
        "y = 3\n",
        "x, y = x % y, x // y\n",
        "print(x, y)"
      ],
      "metadata": {
        "colab": {
          "base_uri": "https://localhost:8080/"
        },
        "id": "geQ9IX603vel",
        "outputId": "29e9c9af-1e51-489b-a443-5071706533f1"
      },
      "execution_count": 10,
      "outputs": [
        {
          "output_type": "stream",
          "name": "stdout",
          "text": [
            "1 3\n"
          ]
        }
      ]
    }
  ]
}