{
  "nbformat": 4,
  "nbformat_minor": 0,
  "metadata": {
    "colab": {
      "provenance": []
    },
    "kernelspec": {
      "name": "python3",
      "display_name": "Python 3"
    },
    "language_info": {
      "name": "python"
    }
  },
  "cells": [
    {
      "cell_type": "code",
      "execution_count": 1,
      "metadata": {
        "colab": {
          "base_uri": "https://localhost:8080/"
        },
        "id": "1AjfIU96kmTT",
        "outputId": "3b46e3a4-00aa-49ca-9ae1-f2eb4fa686e9"
      },
      "outputs": [
        {
          "output_type": "stream",
          "name": "stdout",
          "text": [
            "10\n"
          ]
        }
      ],
      "source": [
        "whatif=\"The World ends today\"\n",
        "print(len(whatif)-len(\"not at all\"))"
      ]
    },
    {
      "cell_type": "code",
      "source": [
        "m=[\"Dune\",\"Jaws\",\"VP\",\"Titanic\",\"Ratatouille\"]\n",
        "print(m[-2][3]+m[-1][-1]+m[-1][-4]+m[4][-6]+m[-5][1])"
      ],
      "metadata": {
        "colab": {
          "base_uri": "https://localhost:8080/"
        },
        "id": "8-LUMDQYlOsi",
        "outputId": "8b232db6-e74b-40ae-a7d6-bcbe25a8e5e1"
      },
      "execution_count": 2,
      "outputs": [
        {
          "output_type": "stream",
          "name": "stdout",
          "text": [
            "aeiou\n"
          ]
        }
      ]
    },
    {
      "cell_type": "code",
      "source": [
        "strenght={\"IT\":70,\"ECE\":65,\"EEE\":75,\"AIML\":50}\n",
        "strenght.update({\"CSE\":64})\n",
        "print(strenght)"
      ],
      "metadata": {
        "colab": {
          "base_uri": "https://localhost:8080/"
        },
        "id": "tAg93nDtlogC",
        "outputId": "f9a8fe87-2921-4959-e29e-1e6d79c5021c"
      },
      "execution_count": 4,
      "outputs": [
        {
          "output_type": "stream",
          "name": "stdout",
          "text": [
            "{'IT': 70, 'ECE': 65, 'EEE': 75, 'AIML': 50, 'CSE': 64}\n"
          ]
        }
      ]
    },
    {
      "cell_type": "code",
      "source": [
        "event='Easter at April 20'\n",
        "l=event.split(\" \")\n",
        "print(\"#\".join(l[::-2]))"
      ],
      "metadata": {
        "colab": {
          "base_uri": "https://localhost:8080/"
        },
        "id": "7xTqPt2zmA9p",
        "outputId": "8deef797-3dce-4cbd-ac8d-3410bca9e8da"
      },
      "execution_count": 5,
      "outputs": [
        {
          "output_type": "stream",
          "name": "stdout",
          "text": [
            "20#at\n"
          ]
        }
      ]
    },
    {
      "cell_type": "code",
      "source": [
        "name=\"college of Enginerring\"\n",
        "print(name[8:11]+\"cyc\"+name[3]+name[-3:])"
      ],
      "metadata": {
        "colab": {
          "base_uri": "https://localhost:8080/"
        },
        "id": "69BSx17imVo5",
        "outputId": "c8fa98a3-4b9d-4bab-92f7-e8a888292a1a"
      },
      "execution_count": 6,
      "outputs": [
        {
          "output_type": "stream",
          "name": "stdout",
          "text": [
            "of cycling\n"
          ]
        }
      ]
    },
    {
      "cell_type": "code",
      "source": [
        "print(float(5+int(4.39+2.1)%2))"
      ],
      "metadata": {
        "colab": {
          "base_uri": "https://localhost:8080/"
        },
        "id": "XgMRFGpYmgRZ",
        "outputId": "b2941e2f-a65e-4b87-d456-1fdb8d74fddd"
      },
      "execution_count": 8,
      "outputs": [
        {
          "output_type": "stream",
          "name": "stdout",
          "text": [
            "5.0\n"
          ]
        }
      ]
    },
    {
      "cell_type": "code",
      "source": [
        "print(3*1**3)"
      ],
      "metadata": {
        "colab": {
          "base_uri": "https://localhost:8080/"
        },
        "id": "EogKMCjTmqQx",
        "outputId": "1ef63757-0271-412f-d7c1-afede9e02269"
      },
      "execution_count": 9,
      "outputs": [
        {
          "output_type": "stream",
          "name": "stdout",
          "text": [
            "3\n"
          ]
        }
      ]
    },
    {
      "cell_type": "code",
      "source": [
        "p,q=8,3\n",
        "p,q,p=p+1,q+5,p+10\n",
        "print(p,q)"
      ],
      "metadata": {
        "colab": {
          "base_uri": "https://localhost:8080/"
        },
        "id": "wnPI3CgjmzgJ",
        "outputId": "eff2283b-317a-4808-86da-2870d263c2b4"
      },
      "execution_count": 10,
      "outputs": [
        {
          "output_type": "stream",
          "name": "stdout",
          "text": [
            "18 8\n"
          ]
        }
      ]
    },
    {
      "cell_type": "code",
      "source": [
        "print(16//3+3**3+15/4-9)"
      ],
      "metadata": {
        "colab": {
          "base_uri": "https://localhost:8080/"
        },
        "id": "hNYwfliZm6ah",
        "outputId": "4c8fedc9-b3a9-4e77-93ab-b80c8f365daa"
      },
      "execution_count": 11,
      "outputs": [
        {
          "output_type": "stream",
          "name": "stdout",
          "text": [
            "26.75\n"
          ]
        }
      ]
    },
    {
      "cell_type": "code",
      "source": [
        "t=(2,4,(6,8,(10,12)),14)"
      ],
      "metadata": {
        "id": "eUvB8OzdnAl5"
      },
      "execution_count": 12,
      "outputs": []
    },
    {
      "cell_type": "code",
      "source": [
        "print(t[2][2][0]*t[0]+t[-1])"
      ],
      "metadata": {
        "colab": {
          "base_uri": "https://localhost:8080/"
        },
        "id": "8eNRDrxInGER",
        "outputId": "567c4b91-e0b2-4e05-fdfa-7b30d5d1c012"
      },
      "execution_count": 13,
      "outputs": [
        {
          "output_type": "stream",
          "name": "stdout",
          "text": [
            "34\n"
          ]
        }
      ]
    },
    {
      "cell_type": "code",
      "source": [],
      "metadata": {
        "id": "KiSNkubVnLOx"
      },
      "execution_count": null,
      "outputs": []
    }
  ]
}