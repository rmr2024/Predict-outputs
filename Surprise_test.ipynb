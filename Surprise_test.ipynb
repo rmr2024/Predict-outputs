{
  "nbformat": 4,
  "nbformat_minor": 0,
  "metadata": {
    "colab": {
      "provenance": []
    },
    "kernelspec": {
      "name": "python3",
      "display_name": "Python 3"
    },
    "language_info": {
      "name": "python"
    }
  },
  "cells": [
    {
      "cell_type": "code",
      "execution_count": 1,
      "metadata": {
        "colab": {
          "base_uri": "https://localhost:8080/"
        },
        "id": "_TynDtl-IMUf",
        "outputId": "9e72c561-a895-4376-fa1a-2c155fee9e53"
      },
      "outputs": [
        {
          "output_type": "stream",
          "name": "stdout",
          "text": [
            "1234567890\n",
            "12\n",
            "Success\n"
          ]
        }
      ],
      "source": [
        "n=int(input())\n",
        "count=0\n",
        "sum1=0\n",
        "while n>0:\n",
        "    rem=n%10\n",
        "    n=n//10\n",
        "    count+=1\n",
        "    if(count==1 or count==3 or count==8 or count==10):\n",
        "        sum1=sum1+rem\n",
        "print(sum1)\n",
        "if(sum1%3==0):\n",
        "    print(\"Success\")\n",
        "else:\n",
        "    print(\"Failed\")"
      ]
    },
    {
      "cell_type": "code",
      "source": [
        "ha=int(input())\n",
        "r=int(input())\n",
        "her=int(input())\n",
        "if(ha>r and ha>her):\n",
        "    print(\"Harry has got highest points\")\n",
        "elif(her>r):\n",
        "    print(\"Hermoine has got highest points\")\n",
        "else:\n",
        "    print(\"Ron has got highest points\")"
      ],
      "metadata": {
        "colab": {
          "base_uri": "https://localhost:8080/"
        },
        "id": "CUrBOWKRIUxH",
        "outputId": "d18bc83f-482d-453a-8e88-eb1e686bad76"
      },
      "execution_count": 2,
      "outputs": [
        {
          "output_type": "stream",
          "name": "stdout",
          "text": [
            "45\n",
            "75\n",
            "100\n",
            "Hermoine has got highest points\n"
          ]
        }
      ]
    }
  ]
}